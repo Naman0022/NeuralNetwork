{
 "cells": [
  {
   "cell_type": "markdown",
   "metadata": {},
   "source": [
    "## Libraries"
   ]
  },
  {
   "cell_type": "code",
   "execution_count": 1,
   "metadata": {},
   "outputs": [
    {
     "name": "stdout",
     "output_type": "stream",
     "text": [
      "Collecting numpy\n",
      "  Downloading numpy-1.24.4-cp38-cp38-win_amd64.whl.metadata (5.6 kB)\n",
      "Downloading numpy-1.24.4-cp38-cp38-win_amd64.whl (14.9 MB)\n",
      "   ---------------------------------------- 0.0/14.9 MB ? eta -:--:--\n",
      "   ---------------------------------------- 0.2/14.9 MB 5.6 MB/s eta 0:00:03\n",
      "   - -------------------------------------- 0.4/14.9 MB 4.6 MB/s eta 0:00:04\n",
      "   - -------------------------------------- 0.7/14.9 MB 5.7 MB/s eta 0:00:03\n",
      "   -- ------------------------------------- 1.0/14.9 MB 5.8 MB/s eta 0:00:03\n",
      "   --- ------------------------------------ 1.3/14.9 MB 5.8 MB/s eta 0:00:03\n",
      "   ---- ----------------------------------- 1.6/14.9 MB 6.0 MB/s eta 0:00:03\n",
      "   ----- ---------------------------------- 1.9/14.9 MB 6.0 MB/s eta 0:00:03\n",
      "   ------ --------------------------------- 2.3/14.9 MB 6.1 MB/s eta 0:00:03\n",
      "   ------- -------------------------------- 2.7/14.9 MB 6.4 MB/s eta 0:00:02\n",
      "   -------- ------------------------------- 3.0/14.9 MB 6.4 MB/s eta 0:00:02\n",
      "   --------- ------------------------------ 3.4/14.9 MB 6.5 MB/s eta 0:00:02\n",
      "   --------- ------------------------------ 3.7/14.9 MB 6.5 MB/s eta 0:00:02\n",
      "   ---------- ----------------------------- 4.0/14.9 MB 6.5 MB/s eta 0:00:02\n",
      "   ----------- ---------------------------- 4.3/14.9 MB 6.4 MB/s eta 0:00:02\n",
      "   ------------ --------------------------- 4.6/14.9 MB 6.5 MB/s eta 0:00:02\n",
      "   ------------- -------------------------- 4.9/14.9 MB 6.5 MB/s eta 0:00:02\n",
      "   -------------- ------------------------- 5.2/14.9 MB 6.6 MB/s eta 0:00:02\n",
      "   -------------- ------------------------- 5.6/14.9 MB 6.6 MB/s eta 0:00:02\n",
      "   --------------- ------------------------ 5.9/14.9 MB 6.5 MB/s eta 0:00:02\n",
      "   ---------------- ----------------------- 6.2/14.9 MB 6.5 MB/s eta 0:00:02\n",
      "   ----------------- ---------------------- 6.5/14.9 MB 6.4 MB/s eta 0:00:02\n",
      "   ------------------ --------------------- 6.9/14.9 MB 6.6 MB/s eta 0:00:02\n",
      "   ------------------- -------------------- 7.1/14.9 MB 6.5 MB/s eta 0:00:02\n",
      "   ------------------- -------------------- 7.1/14.9 MB 6.5 MB/s eta 0:00:02\n",
      "   ------------------- -------------------- 7.4/14.9 MB 6.2 MB/s eta 0:00:02\n",
      "   -------------------- ------------------- 7.6/14.9 MB 6.2 MB/s eta 0:00:02\n",
      "   --------------------- ------------------ 8.0/14.9 MB 6.2 MB/s eta 0:00:02\n",
      "   ---------------------- ----------------- 8.4/14.9 MB 6.3 MB/s eta 0:00:02\n",
      "   ----------------------- ---------------- 8.7/14.9 MB 6.3 MB/s eta 0:00:01\n",
      "   ------------------------ --------------- 9.0/14.9 MB 6.3 MB/s eta 0:00:01\n",
      "   ------------------------- -------------- 9.3/14.9 MB 6.4 MB/s eta 0:00:01\n",
      "   -------------------------- ------------- 9.7/14.9 MB 6.3 MB/s eta 0:00:01\n",
      "   -------------------------- ------------- 10.0/14.9 MB 6.3 MB/s eta 0:00:01\n",
      "   --------------------------- ------------ 10.4/14.9 MB 6.4 MB/s eta 0:00:01\n",
      "   ---------------------------- ----------- 10.7/14.9 MB 6.4 MB/s eta 0:00:01\n",
      "   ----------------------------- ---------- 11.0/14.9 MB 6.5 MB/s eta 0:00:01\n",
      "   ------------------------------ --------- 11.3/14.9 MB 6.5 MB/s eta 0:00:01\n",
      "   ------------------------------- -------- 11.6/14.9 MB 6.4 MB/s eta 0:00:01\n",
      "   ------------------------------- -------- 11.9/14.9 MB 6.5 MB/s eta 0:00:01\n",
      "   -------------------------------- ------- 12.2/14.9 MB 6.5 MB/s eta 0:00:01\n",
      "   --------------------------------- ------ 12.5/14.9 MB 6.4 MB/s eta 0:00:01\n",
      "   ---------------------------------- ----- 12.8/14.9 MB 6.4 MB/s eta 0:00:01\n",
      "   ----------------------------------- ---- 13.1/14.9 MB 6.4 MB/s eta 0:00:01\n",
      "   ------------------------------------ --- 13.4/14.9 MB 6.4 MB/s eta 0:00:01\n",
      "   ------------------------------------ --- 13.7/14.9 MB 6.4 MB/s eta 0:00:01\n",
      "   ------------------------------------- -- 14.0/14.9 MB 6.4 MB/s eta 0:00:01\n",
      "   -------------------------------------- - 14.3/14.9 MB 6.4 MB/s eta 0:00:01\n",
      "   ---------------------------------------  14.7/14.9 MB 6.4 MB/s eta 0:00:01\n",
      "   ---------------------------------------  14.9/14.9 MB 6.4 MB/s eta 0:00:01\n",
      "   ---------------------------------------- 14.9/14.9 MB 6.2 MB/s eta 0:00:00\n",
      "Installing collected packages: numpy\n",
      "Successfully installed numpy-1.24.4\n",
      "Note: you may need to restart the kernel to use updated packages.\n"
     ]
    }
   ],
   "source": [
    "%pip install numpy"
   ]
  },
  {
   "cell_type": "code",
   "execution_count": 2,
   "metadata": {},
   "outputs": [
    {
     "name": "stdout",
     "output_type": "stream",
     "text": [
      "Collecting nnfs\n",
      "  Downloading nnfs-0.5.1-py3-none-any.whl.metadata (1.7 kB)\n",
      "Requirement already satisfied: numpy in d:\\code\\python\\.venv\\lib\\site-packages (from nnfs) (1.24.4)\n",
      "Downloading nnfs-0.5.1-py3-none-any.whl (9.1 kB)\n",
      "Installing collected packages: nnfs\n",
      "Successfully installed nnfs-0.5.1\n",
      "Note: you may need to restart the kernel to use updated packages.\n"
     ]
    }
   ],
   "source": [
    "%pip install nnfs"
   ]
  },
  {
   "cell_type": "markdown",
   "metadata": {},
   "source": [
    "## nnfs P5"
   ]
  },
  {
   "cell_type": "code",
   "execution_count": 1,
   "metadata": {},
   "outputs": [
    {
     "name": "stdout",
     "output_type": "stream",
     "text": [
      "[[0.00000000e+00 0.00000000e+00 0.00000000e+00 0.00000000e+00\n",
      "  0.00000000e+00]\n",
      " [0.00000000e+00 0.00000000e+00 0.00000000e+00 4.65504505e-04\n",
      "  4.56846210e-05]\n",
      " [0.00000000e+00 5.93469958e-05 0.00000000e+00 2.03573116e-04\n",
      "  6.10024377e-04]\n",
      " ...\n",
      " [1.13291524e-01 0.00000000e+00 0.00000000e+00 8.11079666e-02\n",
      "  0.00000000e+00]\n",
      " [1.34588361e-01 0.00000000e+00 3.09493970e-02 5.66337556e-02\n",
      "  0.00000000e+00]\n",
      " [1.07817926e-01 0.00000000e+00 0.00000000e+00 8.72561932e-02\n",
      "  0.00000000e+00]]\n"
     ]
    }
   ],
   "source": [
    "import numpy as np \n",
    "import nnfs\n",
    "from nnfs.datasets import spiral_data\n",
    "\n",
    "nnfs.init()\n",
    "\n",
    "X, y = spiral_data(100, 3)   \n",
    "\n",
    "\n",
    "class Layer_Dense:\n",
    "    def __init__(self, n_inputs, n_neurons):\n",
    "        self.weights = 0.10 * np.random.randn(n_inputs, n_neurons)\n",
    "        self.biases = np.zeros((1, n_neurons))\n",
    "    def forward(self, inputs):\n",
    "        self.output = np.dot(inputs, self.weights) + self.biases\n",
    "\n",
    "\n",
    "class Activation_ReLU:\n",
    "    def forward(self, inputs):\n",
    "        self.output = np.maximum(0, inputs)\n",
    "\n",
    "\n",
    "layer1 = Layer_Dense(2,5)\n",
    "activation1 = Activation_ReLU()\n",
    "\n",
    "layer1.forward(X)\n",
    "\n",
    "#print(layer1.output)\n",
    "activation1.forward(layer1.output)\n",
    "print(activation1.output)"
   ]
  },
  {
   "cell_type": "markdown",
   "metadata": {},
   "source": [
    "## nnfs P6\n"
   ]
  },
  {
   "cell_type": "code",
   "execution_count": 8,
   "metadata": {},
   "outputs": [
    {
     "name": "stdout",
     "output_type": "stream",
     "text": [
      "[8.95232230e-01 2.47069149e-02 7.99245576e-02 1.36297288e-04]\n",
      "0.9999999999999999\n"
     ]
    }
   ],
   "source": [
    "from math import e as E\n",
    "import numpy as np\n",
    "\n",
    "layer_outputs = [[4.8, 1.21, 2.08433,-3.99],\n",
    "                 [-0.433, 1.21, 9.134,-9.99],\n",
    "                 [138, 1.1, 9.384,-4.99]]\n",
    "\n",
    "softmax = np.exp(layer_outputs) / np.sum(np.exp(layer_outputs))\n",
    "print(softmax)\n",
    "print(sum(softmax))\n"
   ]
  }
 ],
 "metadata": {
  "kernelspec": {
   "display_name": ".venv",
   "language": "python",
   "name": "python3"
  },
  "language_info": {
   "codemirror_mode": {
    "name": "ipython",
    "version": 3
   },
   "file_extension": ".py",
   "mimetype": "text/x-python",
   "name": "python",
   "nbconvert_exporter": "python",
   "pygments_lexer": "ipython3",
   "version": "3.8.10"
  }
 },
 "nbformat": 4,
 "nbformat_minor": 2
}
